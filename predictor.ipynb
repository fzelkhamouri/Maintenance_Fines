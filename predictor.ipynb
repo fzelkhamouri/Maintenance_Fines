import pandas as pd
import numpy as np
from sklearn.ensemble import RandomForestClassifier
from sklearn.model_selection import GridSearchCV
def blight_model():
    df = pd.read_csv('train.csv',encoding = 'ISO-8859-1' )
    df = df[['state','violation_code','violation_description', 'fine_amount',
           'disposition','discount_amount',
       'clean_up_cost','compliance']] #get features and targets
    df.dropna(inplace = True)
    # state dictionary by the paid rate
    df1 = df[['compliance','state']] 
    df1=df1.groupby(df1['state']).agg({'compliance':['sum','count']})
    state_dict = dict(df1.iloc[:,0]/df1.iloc[:,1])
    # vio_code dic by the paid rate
    df1 = df[['compliance','violation_code']] 
    df1=df1.groupby(df1['violation_code']).agg({'compliance':['sum','count']})
    vio_code_dict = dict(df1.iloc[:,0]/df1.iloc[:,1])    
    #vio_des by the paid rate
    df1 = df[['compliance','violation_description']] 
    df1=df1.groupby(df1['violation_description']).agg({'compliance':['sum','count']})
    vio_des_dict = dict(df1.iloc[:,0]/df1.iloc[:,1]) 
    # 
    df1 = df[['compliance','disposition']] 
    df1=df1.groupby(df1['disposition']).agg({'compliance':['sum','count']})
    dis_dict = dict(df1.iloc[:,0]/df1.iloc[:,1]) 
    dis_dict ={'Responsible (Fine Waived) by Admis': dis_dict['Responsible by Admission'],
               'Responsible (Fine Waived) by Deter': dis_dict['Responsible by Determination'],
               'Responsible - Compl/Adj by Default': dis_dict['Responsible by Default'],
               'Responsible - Compl/Adj by Determi': dis_dict['Responsible by Determination'],
               'Responsible by Admission': dis_dict['Responsible by Admission'],
               'Responsible by Default': dis_dict['Responsible by Default'],
               'Responsible by Determination': dis_dict['Responsible by Determination']}
    # replace string value by rates
    df.replace({'violation_description':vio_des_dict,'violation_code':vio_code_dict,
               'state':state_dict,'disposition': dis_dict }, inplace =True)
    # get X_train
    X_train = df.iloc[:,:-1]
    # get y_train
    y_train = df.iloc[:,-1]
    # train model
    # logreg = LogisticRegression().fit(X_train,y_train)
    
    rfc = RandomForestClassifier( n_estimators =  50,n_jobs = -1,random_state = 0)
    rfc.fit(X_train,y_train)
    # read test file
    df1 = pd.read_csv('test.csv',encoding = 'ISO-8859-1' )
    X_test = df1[['state','violation_code','violation_description', 'fine_amount',
           'disposition','discount_amount',
       'clean_up_cost']]
    X_test.replace({'violation_description':vio_des_dict,'violation_code':vio_code_dict,
               'state':state_dict,'disposition': dis_dict}, inplace =True)
    # clean state
    a=[]
    for i,v in X_test['state'].items():
        if type(v) ==float:
             a.append(v)
        else:
            a.append(np.nan)
    X_test['state']= a
    X_test['state'].fillna(0,inplace=True)
    # clean vio code
    a=[]
    for i,v in X_test['violation_code'].items():
        if type(v) ==float:
             a.append(v)
        else:
            a.append(np.nan)
    X_test['violation_code']= a
    X_test['violation_code'].fillna(0,inplace=True)
    #clean vio des
    a=[]
    for i,v in X_test['violation_description'].items():
        
        if type(v) ==float:
             a.append(v)
        else:
             a.append(np.nan)
    X_test['violation_description']= a
    X_test['violation_description'].fillna(0,inplace=True)
    # clean dis
    a=[]
    for i,v in X_test['disposition'].items():
        if type(v) ==float:
             a.append(v)
        else:
            a.append(np.nan)
    X_test['disposition']= a
    X_test['disposition'].fillna(0,inplace=True)
    # pridcition
    y_pro = rfc.predict_proba(X_test)[:,1]
    y_re = pd.Series(y_pro , index = df1['ticket_id'])
    return y_re
